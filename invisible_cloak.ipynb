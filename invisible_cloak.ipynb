{
 "cells": [
  {
   "cell_type": "code",
   "execution_count": 56,
   "metadata": {},
   "outputs": [],
   "source": [
    "import cv2\n",
    "import numpy as np"
   ]
  },
  {
   "cell_type": "code",
   "execution_count": 63,
   "metadata": {},
   "outputs": [],
   "source": [
    "cap = cv2.VideoCapture(0)"
   ]
  },
  {
   "cell_type": "code",
   "execution_count": 64,
   "metadata": {},
   "outputs": [],
   "source": [
    "back = cv2.imread('./image.jpg')"
   ]
  },
  {
   "cell_type": "code",
   "execution_count": 65,
   "metadata": {},
   "outputs": [],
   "source": [
    "while cap.isOpened():\n",
    "    ret, frame = cap.read()\n",
    "    \n",
    "    if ret:\n",
    "        hsv = cv2.cvtColor(frame, cv2.COLOR_BGR2HSV)\n",
    "        \n",
    "        red = np.uint8([[[0,255,255]]])\n",
    "        hsv_red = cv2.cvtColor(red, cv2.COLOR_BGR2HSV)\n",
    "        \n",
    "        l_red = np.array([0, 100, 100])\n",
    "        u_red = np.array([10, 255, 255])\n",
    "        \n",
    "        mask = cv2.inRange(hsv, l_red, u_red)\n",
    "        \n",
    "        allred = cv2.bitwise_and(back, back, mask=mask)\n",
    "        \n",
    "        mask = cv2.bitwise_not(mask)\n",
    "        \n",
    "        notred = cv2.bitwise_and(frame, frame, mask=mask)\n",
    "        \n",
    "        cv2.imshow(\"cloak\", allred + notred)\n",
    "        \n",
    "        if cv2.waitKey(5) == ord('c'):\n",
    "            break\n",
    "            \n",
    "cap.release()\n",
    "cv2.destroyAllWindows()"
   ]
  },
  {
   "cell_type": "code",
   "execution_count": null,
   "metadata": {},
   "outputs": [],
   "source": []
  }
 ],
 "metadata": {
  "kernelspec": {
   "display_name": "Python 3",
   "language": "python",
   "name": "python3"
  },
  "language_info": {
   "codemirror_mode": {
    "name": "ipython",
    "version": 3
   },
   "file_extension": ".py",
   "mimetype": "text/x-python",
   "name": "python",
   "nbconvert_exporter": "python",
   "pygments_lexer": "ipython3",
   "version": "3.8.2"
  }
 },
 "nbformat": 4,
 "nbformat_minor": 4
}
